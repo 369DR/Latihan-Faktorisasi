import scipy
from scipy.linalg import lu, lu_factor, lu_solve
import numpy as np

# Mendefinisikan matriks A
A = np.array([[4, 3, -1], [-2, -4., -5], [1, 2, 6]])
# Mendefinisikan vektor b
b = np.array([-4, 40, 14])

# Solusi yang diberikan Lu dan b
p, l, u = lu(A)
lu, piv = lu_factor(A)
x = lu_solve((lu, piv), b)

print('Matrices P:\n', p)
print('Matrices L:\n', l)
print('Matrices U:\n', u)
print('Solutions:\n', x)
